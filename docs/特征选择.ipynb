{
 "cells": [
  {
   "cell_type": "markdown",
   "id": "86eb823a",
   "metadata": {},
   "source": [
    "# 特征选择"
   ]
  },
  {
   "cell_type": "markdown",
   "id": "833c05a4",
   "metadata": {},
   "source": [
    "## 特征工程"
   ]
  },
  {
   "cell_type": "markdown",
   "id": "54c060db",
   "metadata": {},
   "source": [
    "### 计算每一个特征与变量的相关性"
   ]
  },
  {
   "cell_type": "markdown",
   "id": "d5651d53",
   "metadata": {},
   "source": [
    "### 通过L1正则化来选择特征 "
   ]
  },
  {
   "cell_type": "markdown",
   "id": "548fac75",
   "metadata": {},
   "source": [
    "### 训练能够对特征打分的预选模型"
   ]
  },
  {
   "cell_type": "markdown",
   "id": "7f74c891",
   "metadata": {},
   "source": [
    "### 通过特征组合后再来选择特征"
   ]
  },
  {
   "cell_type": "markdown",
   "id": "2451ef02",
   "metadata": {},
   "source": [
    "### 通过深度学习来进行特征选择"
   ]
  },
  {
   "cell_type": "markdown",
   "id": "6390ec52",
   "metadata": {},
   "source": [
    "## sklearn 提供的方法"
   ]
  },
  {
   "cell_type": "markdown",
   "id": "9b232810",
   "metadata": {},
   "source": [
    "### 递归特征消除"
   ]
  },
  {
   "cell_type": "markdown",
   "id": "7fb380a9",
   "metadata": {},
   "source": [
    "### F1检验与互换信息法的比较"
   ]
  },
  {
   "cell_type": "markdown",
   "id": "5101455f",
   "metadata": {},
   "source": [
    "### 工作流Anova SVM"
   ]
  },
  {
   "cell_type": "markdown",
   "id": "da38d2ab",
   "metadata": {},
   "source": [
    "### 带交叉检验的递归特征消除"
   ]
  },
  {
   "cell_type": "markdown",
   "id": "2f66f0ed",
   "metadata": {},
   "source": [
    "### 基于SelectFromModel和LassoCV的特征选择"
   ]
  },
  {
   "cell_type": "markdown",
   "id": "e44a3302",
   "metadata": {},
   "source": [
    "### 分类得分的排列测试的意义"
   ]
  },
  {
   "cell_type": "markdown",
   "id": "d4d8d22d",
   "metadata": {},
   "source": [
    "### 单变量特征选择"
   ]
  }
 ],
 "metadata": {
  "kernelspec": {
   "display_name": "Python 3 (ipykernel)",
   "language": "python",
   "name": "python3"
  },
  "language_info": {
   "codemirror_mode": {
    "name": "ipython",
    "version": 3
   },
   "file_extension": ".py",
   "mimetype": "text/x-python",
   "name": "python",
   "nbconvert_exporter": "python",
   "pygments_lexer": "ipython3",
   "version": "3.9.17"
  }
 },
 "nbformat": 4,
 "nbformat_minor": 5
}
